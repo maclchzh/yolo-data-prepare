{
 "cells": [
  {
   "cell_type": "code",
   "execution_count": 33,
   "metadata": {},
   "outputs": [
    {
     "name": "stdout",
     "output_type": "stream",
     "text": [
      "(1024, 1224, 3)\n",
      "G:/detect-train/Train-WhiteCell/data/1/_c_23_99_1.jpg\n",
      "G:/detect-train/Train-WhiteCell/data/1/_c_23_99_1.txt\n",
      "G:/detect-train/Train-WhiteCell/data/2/1.txt\n",
      "['0 0.586719 0.412500 0.050000 0.063889']\n",
      "G:/detect-train/Train-WhiteCell/data/2/2.txt\n",
      "['0 0.586719 0.412500 0.050000 0.063889']\n",
      "G:/detect-train/Train-WhiteCell/data/2/3.txt\n",
      "['0 0.586719 0.412500 0.050000 0.063889']\n",
      "G:/detect-train/Train-WhiteCell/data/2/4.txt\n",
      "['0 0.586719 0.412500 0.050000 0.063889']\n",
      "G:/detect-train/Train-WhiteCell/data/2/5.txt\n",
      "['0 0.586719 0.412500 0.050000 0.063889']\n",
      "(1024, 1224, 3)\n",
      "G:/detect-train/Train-WhiteCell/data/1/_c_24_2_1.jpg\n",
      "G:/detect-train/Train-WhiteCell/data/1/_c_24_2_1.txt\n",
      "G:/detect-train/Train-WhiteCell/data/2/6.txt\n",
      "['0 0.319141 0.562500 0.044531 0.052778', '0 0.511328 0.521528 0.038281 0.054167', '0 0.050000 0.931250 0.040625 0.059722']\n",
      "G:/detect-train/Train-WhiteCell/data/2/7.txt\n",
      "['0 0.319141 0.562500 0.044531 0.052778', '0 0.511328 0.521528 0.038281 0.054167', '0 0.050000 0.931250 0.040625 0.059722']\n",
      "G:/detect-train/Train-WhiteCell/data/2/8.txt\n",
      "['0 0.319141 0.562500 0.044531 0.052778', '0 0.511328 0.521528 0.038281 0.054167', '0 0.050000 0.931250 0.040625 0.059722']\n",
      "G:/detect-train/Train-WhiteCell/data/2/9.txt\n",
      "['0 0.319141 0.562500 0.044531 0.052778', '0 0.511328 0.521528 0.038281 0.054167', '0 0.050000 0.931250 0.040625 0.059722']\n",
      "G:/detect-train/Train-WhiteCell/data/2/10.txt\n",
      "['0 0.319141 0.562500 0.044531 0.052778', '0 0.511328 0.521528 0.038281 0.054167', '0 0.050000 0.931250 0.040625 0.059722']\n"
     ]
    }
   ],
   "source": [
    "#边界框\n",
    "import imgaug as ia\n",
    "import imgaug.augmenters as iaa\n",
    "from imgaug.augmentables.bbs import BoundingBox, BoundingBoxesOnImage\n",
    "import time\n",
    "import cv2\n",
    "\n",
    "from PIL import Image\n",
    "import os\n",
    "import sys\n",
    "import random\n",
    "import imageio\n",
    "\n",
    "#图像归一化\n",
    "ia.seed(1)\n",
    "# image = ia.quokka(size=(256, 256))\n",
    "# bbs = BoundingBoxesOnImage([\n",
    "#     BoundingBox(x1=65, y1=100, x2=200, y2=150),\n",
    "#     BoundingBox(x1=150, y1=80, x2=200, y2=130)\n",
    "# ], shape=image.shape)\n",
    "\n",
    "#aug1=iaa.Affine(rotate=45)#右旋转45度\n",
    "#seq = iaa.Sequential([\n",
    "aug1=iaa.AdditiveGaussianNoise(scale=0.2*255)#加噪声\n",
    "aug2=iaa.GaussianBlur(sigma=(0.0, 3.0)) #变模糊\n",
    "aug3=iaa.AllChannelsCLAHE(clip_limit=(1,10))#图像增强\n",
    "aug4=iaa.Affine(rotate=-45)#左旋转45度\n",
    "aug5=iaa.Affine(rotate=45)#右旋转45度\n",
    "aug6=iaa.Affine(scale=(0.4, 0.7))#Scale images to a value of 50 to 150% of their original size变大\n",
    "aug7=iaa.Affine(scale=(1.3, 1.6))#Scale images to a value of 50 to 150% of their original size#缩小\n",
    "aug8=iaa.GammaContrast((2.5, 2.5), per_channel=True)#色相变暗\n",
    "aug9=iaa.Grayscale(alpha=(0.9))#色相变灰\n",
    "aug10=iaa.PiecewiseAffine(scale=(0.08))#扭曲图像\n",
    "\n",
    "# image1,bbs1=aug1(image=image, bounding_boxes=bbs)\n",
    "# image2,bbs2=aug2(image=image, bounding_boxes=bbs)\n",
    "\n",
    "# image = Image.open(\"G:/test-data/1.jpg\").convert(\"RGB\")\n",
    "\n",
    "def boxFromLine(line):\n",
    "    line = line.strip()\n",
    "    listFromLine = line.split(' ')        \n",
    "    cx = float(listFromLine[1]) * ww\n",
    "    cy = float(listFromLine[2]) * hh\n",
    "    w = float(listFromLine[3]) * ww\n",
    "    h = float(listFromLine[4]) * hh\n",
    "    x1 = cx - w / 2\n",
    "    y1 = cy - h / 2\n",
    "    x2 = cx + w / 2\n",
    "    y2 = cy + h / 2\n",
    "    return BoundingBox(x1, y1, x2, y2)\n",
    "\n",
    "def linesFromBoxs(boxs, ww, hh):\n",
    "    lines = []\n",
    "    for i in range(boxs.shape[0]):\n",
    "        x1 = boxs[i][0]\n",
    "        y1 = boxs[i][1]\n",
    "        x2 = boxs[i][2]\n",
    "        y2 = boxs[i][3]\n",
    "        cx = (x1 + x2) / 2\n",
    "        cy = (y1 + y2) / 2\n",
    "        w = x2- x1\n",
    "        h = y2 - y1\n",
    "        line = \"0 \" + '%.6f'%(cx / ww) + \" \" + '%.6f'%(cy / hh) + \" \" + '%.6f'%(w / ww) + \" \" + '%.6f'%(h / hh)\n",
    "        lines.append(line)\n",
    "    return lines\n",
    "    \n",
    "\n",
    "imgFolder = \"G:/detect-train/Train-WhiteCell/data/1/\"\n",
    "imgFolderDst = \"G:/detect-train/Train-WhiteCell/data/2/\"\n",
    "imgsT = os.listdir(imgFolder)\n",
    "imgs = []\n",
    "for file in imgsT:\n",
    "    if file.endswith(\".jpg\") or file.endswith(\".bmp\"):\n",
    "        file2 = file.replace(\".jpg\", \".txt\")\n",
    "        file2 = file2.replace(\".bmp\", \".txt\")\n",
    "        imgInfo = (os.path.join(imgFolder, file), os.path.join(imgFolder, file2))                \n",
    "        imgs.append(imgInfo)\n",
    "\n",
    "countImg = 0\n",
    "for i in range(len(imgs)):\n",
    "    imgfile = imgs[i][0]\n",
    "    txtfile = imgs[i][1]\n",
    "    image = imageio.imread(imgfile)\n",
    "    ww = image.shape[0]\n",
    "    hh = image.shape[1]\n",
    "    print(image.shape)\n",
    "    print(imgfile)\n",
    "    print(txtfile)\n",
    "    fh = open(txtfile)\n",
    "    lines = fh.readlines()\n",
    "    fh.close()   \n",
    "    bboxs = []\n",
    "    for line in lines:        \n",
    "        bboxs.append(boxFromLine(line));\n",
    "    bbs = BoundingBoxesOnImage(bboxs, image.shape)\n",
    "    for j in range(5):\n",
    "        countImg+=1\n",
    "        imgsave = os.path.join(imgFolderDst, str(countImg) + \".jpg\")\n",
    "        txtsave = os.path.join(imgFolderDst, str(countImg) + \".txt\")\n",
    "        print(txtsave)\n",
    "        \n",
    "        image2, bbs2 = aug2(image=image, bounding_boxes=bbs)\n",
    "        boxs = bbs2.to_xyxy_array()    \n",
    "        lines = linesFromBoxs(boxs, ww, hh)\n",
    "        fh = open(txtsave, 'w')   \n",
    "        print(lines)\n",
    "        fh.writelines(lines)\n",
    "        fh.close()         \n",
    "        imageio.imwrite(imgsave, image2)\n",
    "    \n",
    "\n",
    "\n"
   ]
  },
  {
   "cell_type": "code",
   "execution_count": 6,
   "metadata": {},
   "outputs": [
    {
     "name": "stdout",
     "output_type": "stream",
     "text": [
      "fdd.jpg\n"
     ]
    },
    {
     "data": {
      "text/plain": [
       "2"
      ]
     },
     "execution_count": 6,
     "metadata": {},
     "output_type": "execute_result"
    }
   ],
   "source": [
    "file = \"fdd.jpg\"\n",
    "file2 = file.replace(\".bmp\", \".txt\")\n",
    "print(file2)\n",
    "fff = [1,2]\n",
    "len(fff)"
   ]
  },
  {
   "cell_type": "code",
   "execution_count": 31,
   "metadata": {},
   "outputs": [
    {
     "data": {
      "text/plain": [
       "'-3.140'"
      ]
     },
     "execution_count": 31,
     "metadata": {},
     "output_type": "execute_result"
    }
   ],
   "source": [
    "line = \"23 56\"\n",
    "line = line.strip()\n",
    "listFromLine = line.split(' ')\n",
    "int(listFromLine[0])\n",
    "\n",
    "'%.3f'%-3.14"
   ]
  },
  {
   "cell_type": "code",
   "execution_count": null,
   "metadata": {},
   "outputs": [],
   "source": []
  }
 ],
 "metadata": {
  "kernelspec": {
   "display_name": "Python 3",
   "language": "python",
   "name": "python3"
  },
  "language_info": {
   "codemirror_mode": {
    "name": "ipython",
    "version": 3
   },
   "file_extension": ".py",
   "mimetype": "text/x-python",
   "name": "python",
   "nbconvert_exporter": "python",
   "pygments_lexer": "ipython3",
   "version": "3.7.3"
  }
 },
 "nbformat": 4,
 "nbformat_minor": 2
}
